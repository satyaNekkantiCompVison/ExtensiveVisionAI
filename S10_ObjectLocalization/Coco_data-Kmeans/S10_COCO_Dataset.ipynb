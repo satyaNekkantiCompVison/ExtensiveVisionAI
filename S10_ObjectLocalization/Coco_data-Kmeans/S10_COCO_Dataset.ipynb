{
  "nbformat": 4,
  "nbformat_minor": 0,
  "metadata": {
    "colab": {
      "name": "S10_COCO_Dataset.ipynb",
      "provenance": []
    },
    "kernelspec": {
      "name": "python3",
      "display_name": "Python 3"
    },
    "language_info": {
      "name": "python"
    }
  },
  "cells": [
    {
      "cell_type": "markdown",
      "source": [
        "## Load Libraries"
      ],
      "metadata": {
        "id": "22NL8XdZAw_9"
      }
    },
    {
      "cell_type": "code",
      "execution_count": 2,
      "metadata": {
        "id": "BM7suDyuAsbB"
      },
      "outputs": [],
      "source": [
        "import shutil\n",
        "import random \n",
        "import math\n",
        "from sklearn.cluster import KMeans\n",
        "\n",
        "import numpy as np\n",
        "import pandas as pd\n",
        "import json\n",
        "\n",
        "# PLotting\n",
        "from matplotlib import pyplot as plt\n",
        "from matplotlib.collections import PatchCollection\n",
        "from matplotlib.patches import Rectangle"
      ]
    },
    {
      "cell_type": "markdown",
      "source": [
        "# Download Coco Dataset"
      ],
      "metadata": {
        "id": "FOFhigV7A9dW"
      }
    },
    {
      "cell_type": "code",
      "source": [
        "!wget http://images.cocodataset.org/annotations/annotations_trainval2017.zip\n",
        "!unzip 'annotations_trainval2017.zip'"
      ],
      "metadata": {
        "colab": {
          "base_uri": "https://localhost:8080/"
        },
        "id": "9ycuG_SCBBEI",
        "outputId": "c51bcc97-dff6-410a-d5d1-934fd9733315"
      },
      "execution_count": 3,
      "outputs": [
        {
          "output_type": "stream",
          "name": "stdout",
          "text": [
            "--2021-12-27 17:52:00--  http://images.cocodataset.org/annotations/annotations_trainval2017.zip\n",
            "Resolving images.cocodataset.org (images.cocodataset.org)... 52.216.130.131\n",
            "Connecting to images.cocodataset.org (images.cocodataset.org)|52.216.130.131|:80... connected.\n",
            "HTTP request sent, awaiting response... 200 OK\n",
            "Length: 252907541 (241M) [application/zip]\n",
            "Saving to: ‘annotations_trainval2017.zip’\n",
            "\n",
            "annotations_trainva 100%[===================>] 241.19M  16.1MB/s    in 17s     \n",
            "\n",
            "2021-12-27 17:52:17 (14.6 MB/s) - ‘annotations_trainval2017.zip’ saved [252907541/252907541]\n",
            "\n",
            "Archive:  annotations_trainval2017.zip\n",
            "  inflating: annotations/instances_train2017.json  \n",
            "  inflating: annotations/instances_val2017.json  \n",
            "  inflating: annotations/captions_train2017.json  \n",
            "  inflating: annotations/captions_val2017.json  \n",
            "  inflating: annotations/person_keypoints_train2017.json  \n",
            "  inflating: annotations/person_keypoints_val2017.json  \n"
          ]
        }
      ]
    },
    {
      "cell_type": "markdown",
      "source": [
        "# Load COCO Dataset"
      ],
      "metadata": {
        "id": "fWO6veD-BWcM"
      }
    },
    {
      "cell_type": "code",
      "source": [
        "trainFile = open('/content/annotations/instances_train2017.json')\n",
        "jsonData = json.load(trainFile)\n",
        "print(\"keys\",jsonData.keys())"
      ],
      "metadata": {
        "colab": {
          "base_uri": "https://localhost:8080/"
        },
        "id": "ergYV3vsBaVh",
        "outputId": "ac74c499-a957-476c-9220-63f7c7d995bd"
      },
      "execution_count": 4,
      "outputs": [
        {
          "output_type": "stream",
          "name": "stdout",
          "text": [
            "keys dict_keys(['info', 'licenses', 'images', 'annotations', 'categories'])\n"
          ]
        }
      ]
    },
    {
      "cell_type": "code",
      "source": [
        "images_count = len(jsonData['images'])\n",
        "boxes_count = len(jsonData['annotations'])\n",
        "catergories = len(jsonData['categories'])\n",
        "\n",
        "\n",
        "\n",
        "print('Number of images: ',images_count)\n",
        "print('Number of bounding boxes: ', boxes_count)\n",
        "print('Number of classes: ', catergories)"
      ],
      "metadata": {
        "colab": {
          "base_uri": "https://localhost:8080/"
        },
        "id": "MjEKoyYmBya8",
        "outputId": "78c88c65-be24-4428-95bf-28f9da409b47"
      },
      "execution_count": 5,
      "outputs": [
        {
          "output_type": "stream",
          "name": "stdout",
          "text": [
            "Number of images:  118287\n",
            "Number of bounding boxes:  860001\n",
            "Number of classes:  80\n"
          ]
        }
      ]
    },
    {
      "cell_type": "markdown",
      "source": [
        "# Mapping class names to category ids"
      ],
      "metadata": {
        "id": "lVjgJniFCGzP"
      }
    },
    {
      "cell_type": "code",
      "source": [
        "category_map = {}\n",
        "for each_category in jsonData['categories']:\n",
        "  category_id = each_category['id']\n",
        "  category_name = each_category['name']\n",
        "  category_map[category_id] = category_name\n",
        "\n",
        "# Class distribution\n",
        "class_to_bbox = {} \n",
        "\n",
        "for annotation in jsonData['annotations']:\n",
        "    category_id = annotation['category_id']\n",
        "    category_name = category_map[category_id]\n",
        "    \n",
        "    if category_name in class_to_bbox.keys():\n",
        "        class_to_bbox[category_name] += 1\n",
        "    else:\n",
        "        class_to_bbox[category_name] = 1\n",
        "\n",
        "bbox_class_sorted = [(k,v)for k, v in sorted(class_to_bbox.items(), reverse=True, key=lambda item: item[1])]\n",
        "\n",
        "# Load first 20 class\n",
        "class_20_sorted = min(len(bbox_class_sorted),20)\n",
        "\n",
        "\n",
        "y = [i[1] for i in bbox_class_sorted[:class_20_sorted]]\n",
        "x = [i[0] for i in bbox_class_sorted[:class_20_sorted]]\n",
        "\n",
        "plt.figure(figsize=(12,6))\n",
        "plt.bar(np.arange(len(y)),y, width=0.5,tick_label=x,color='red')\n",
        "plt.xticks(rotation=90) \n",
        "plt.xlim(0,len(y))\n",
        "plt.xlabel('Category')\n",
        "plt.ylabel('Number of boxes')\n",
        "plt.title('Class distribution')\n",
        "plt.show()\n",
        "\n"
      ],
      "metadata": {
        "colab": {
          "base_uri": "https://localhost:8080/",
          "height": 454
        },
        "id": "xrRiKbr7CKRm",
        "outputId": "839be56e-511a-4f49-dc91-e3a6ef8ad598"
      },
      "execution_count": 6,
      "outputs": [
        {
          "output_type": "display_data",
          "data": {
            "image/png": "[encoded data removed]",
            "text/plain": [
              "<Figure size 864x432 with 1 Axes>"
            ]
          },
          "metadata": {
            "needs_background": "light"
          }
        }
      ]
    },
    {
      "cell_type": "markdown",
      "source": [
        "# K-means Clustering for anchor boxes"
      ],
      "metadata": {
        "id": "vNxtOCcnEM-h"
      }
    },
    {
      "cell_type": "code",
      "source": [
        "# Sort the coco data\n",
        "# Use Pandas dataframe for normalizing bounding boxes\n",
        "\n",
        "# images DataFrame\n",
        "images_df = pd.DataFrame(jsonData['images'], columns = jsonData['images'][0].keys())\n",
        "print( images_df.head())\n",
        "\n",
        "# annotations DataFrame\n",
        "annotations_df = pd.DataFrame(jsonData['annotations'], columns = jsonData['annotations'][0].keys())\n",
        "print(annotations_df.head())"
      ],
      "metadata": {
        "colab": {
          "base_uri": "https://localhost:8080/"
        },
        "id": "pzQEo5mBEPKX",
        "outputId": "14919825-2940-4e5f-9218-6788c07f5b56"
      },
      "execution_count": 7,
      "outputs": [
        {
          "output_type": "stream",
          "name": "stdout",
          "text": [
            "   license  ...      id\n",
            "0        3  ...  391895\n",
            "1        4  ...  522418\n",
            "2        3  ...  184613\n",
            "3        3  ...  318219\n",
            "4        3  ...  554625\n",
            "\n",
            "[5 rows x 8 columns]\n",
            "                                        segmentation  ...    id\n",
            "0  [[239.97, 260.24, 222.04, 270.49, 199.84, 253....  ...   156\n",
            "1  [[247.71, 354.7, 253.49, 346.99, 276.63, 337.3...  ...   509\n",
            "2  [[274.58, 405.68, 298.32, 405.68, 302.45, 402....  ...   603\n",
            "3  [[296.65, 388.33, 296.65, 388.33, 297.68, 388....  ...   918\n",
            "4  [[251.87, 356.13, 260.13, 343.74, 300.39, 335....  ...  1072\n",
            "\n",
            "[5 rows x 7 columns]\n"
          ]
        }
      ]
    },
    {
      "cell_type": "code",
      "source": [
        "# #Extract the Box Dimensions\n",
        "annotation_map_df = pd.concat([images_df, annotations_df], 1)[['file_name', 'width', 'height', 'bbox']]\n",
        "box_df =pd.DataFrame(annotation_map_df['bbox'].values.tolist(), columns =['x', 'y', 'box_width', 'box_height'])\n",
        "annotation_map_df = pd.concat([annotation_map_df, box_df], 1)\n",
        "annotation_map_df = annotation_map_df.drop('bbox', axis =1)\n",
        "\n",
        "print(annotation_map_df.head())"
      ],
      "metadata": {
        "colab": {
          "base_uri": "https://localhost:8080/"
        },
        "id": "B2ae_eouFHED",
        "outputId": "a4b085e3-fd64-44d0-ce84-4f54c4d694fd"
      },
      "execution_count": 9,
      "outputs": [
        {
          "output_type": "stream",
          "name": "stdout",
          "text": [
            "          file_name  width  height       x       y  box_width  box_height\n",
            "0  000000391895.jpg  640.0   360.0  199.84  200.46      77.71       70.88\n",
            "1  000000522418.jpg  640.0   480.0  234.22  317.11     149.39       38.55\n",
            "2  000000184613.jpg  500.0   336.0  239.48  347.87     160.00       57.81\n",
            "3  000000318219.jpg  556.0   640.0  296.65  388.33       1.03        0.00\n",
            "4  000000554625.jpg  426.0   640.0  251.87  333.42     125.94       22.71\n"
          ]
        }
      ]
    },
    {
      "cell_type": "code",
      "source": [
        "# NOrmalize the BBOX values\n",
        "normalize_annotations_map_df = annotation_map_df.copy()\n",
        "normalize_annotations_map_df['x'] = annotation_map_df['x']/annotation_map_df['width']\n",
        "normalize_annotations_map_df['y'] = annotation_map_df['y']/annotation_map_df['height']\n",
        "normalize_annotations_map_df['box_width'] = annotation_map_df['box_width']/annotation_map_df['width']\n",
        "normalize_annotations_map_df['box_height'] = annotation_map_df['box_height']/annotation_map_df['height']\n",
        "normalize_annotations_map_df.head()"
      ],
      "metadata": {
        "colab": {
          "base_uri": "https://localhost:8080/",
          "height": 213
        },
        "id": "_2ys6tYJFYUK",
        "outputId": "923f9939-c038-4574-d2ae-c2cc7b967c81"
      },
      "execution_count": 13,
      "outputs": [
        {
          "output_type": "execute_result",
          "data": {
            "text/html": [
              "\n",
              "  <div id=\"df-2b27d1fb-c207-484b-813a-2203a41f5013\">\n",
              "    <div class=\"colab-df-container\">\n",
              "      <div>\n",
              "<style scoped>\n",
              "    .dataframe tbody tr th:only-of-type {\n",
              "        vertical-align: middle;\n",
              "    }\n",
              "\n",
              "    .dataframe tbody tr th {\n",
              "        vertical-align: top;\n",
              "    }\n",
              "\n",
              "    .dataframe thead th {\n",
              "        text-align: right;\n",
              "    }\n",
              "</style>\n",
              "<table border=\"1\" class=\"dataframe\">\n",
              "  <thead>\n",
              "    <tr style=\"text-align: right;\">\n",
              "      <th></th>\n",
              "      <th>file_name</th>\n",
              "      <th>width</th>\n",
              "      <th>height</th>\n",
              "      <th>x</th>\n",
              "      <th>y</th>\n",
              "      <th>box_width</th>\n",
              "      <th>box_height</th>\n",
              "    </tr>\n",
              "  </thead>\n",
              "  <tbody>\n",
              "    <tr>\n",
              "      <th>0</th>\n",
              "      <td>000000391895.jpg</td>\n",
              "      <td>640.0</td>\n",
              "      <td>360.0</td>\n",
              "      <td>0.312250</td>\n",
              "      <td>0.556833</td>\n",
              "      <td>0.121422</td>\n",
              "      <td>0.196889</td>\n",
              "    </tr>\n",
              "    <tr>\n",
              "      <th>1</th>\n",
              "      <td>000000522418.jpg</td>\n",
              "      <td>640.0</td>\n",
              "      <td>480.0</td>\n",
              "      <td>0.365969</td>\n",
              "      <td>0.660646</td>\n",
              "      <td>0.233422</td>\n",
              "      <td>0.080312</td>\n",
              "    </tr>\n",
              "    <tr>\n",
              "      <th>2</th>\n",
              "      <td>000000184613.jpg</td>\n",
              "      <td>500.0</td>\n",
              "      <td>336.0</td>\n",
              "      <td>0.478960</td>\n",
              "      <td>1.035327</td>\n",
              "      <td>0.320000</td>\n",
              "      <td>0.172054</td>\n",
              "    </tr>\n",
              "    <tr>\n",
              "      <th>3</th>\n",
              "      <td>000000318219.jpg</td>\n",
              "      <td>556.0</td>\n",
              "      <td>640.0</td>\n",
              "      <td>0.533543</td>\n",
              "      <td>0.606766</td>\n",
              "      <td>0.001853</td>\n",
              "      <td>0.000000</td>\n",
              "    </tr>\n",
              "    <tr>\n",
              "      <th>4</th>\n",
              "      <td>000000554625.jpg</td>\n",
              "      <td>426.0</td>\n",
              "      <td>640.0</td>\n",
              "      <td>0.591244</td>\n",
              "      <td>0.520969</td>\n",
              "      <td>0.295634</td>\n",
              "      <td>0.035484</td>\n",
              "    </tr>\n",
              "  </tbody>\n",
              "</table>\n",
              "</div>\n",
              "      <button class=\"colab-df-convert\" onclick=\"convertToInteractive('df-2b27d1fb-c207-484b-813a-2203a41f5013')\"\n",
              "              title=\"Convert this dataframe to an interactive table.\"\n",
              "              style=\"display:none;\">\n",
              "        \n",
              "  <svg xmlns=\"http://www.w3.org/2000/svg\" height=\"24px\"viewBox=\"0 0 24 24\"\n",
              "       width=\"24px\">\n",
              "    <path d=\"M0 0h24v24H0V0z\" fill=\"none\"/>\n",
              "    <path d=\"M18.56 5.44l.94 2.06.94-2.06 2.06-.94-2.06-.94-.94-2.06-.94 2.06-2.06.94zm-11 1L8.5 8.5l.94-2.06 2.06-.94-2.06-.94L8.5 2.5l-.94 2.06-2.06.94zm10 10l.94 2.06.94-2.06 2.06-.94-2.06-.94-.94-2.06-.94 2.06-2.06.94z\"/><path d=\"M17.41 7.96l-1.37-1.37c-.4-.4-.92-.59-1.43-.59-.52 0-1.04.2-1.43.59L10.3 9.45l-7.72 7.72c-.78.78-.78 2.05 0 2.83L4 21.41c.39.39.9.59 1.41.59.51 0 1.02-.2 1.41-.59l7.78-7.78 2.81-2.81c.8-.78.8-2.07 0-2.86zM5.41 20L4 18.59l7.72-7.72 1.47 1.35L5.41 20z\"/>\n",
              "  </svg>\n",
              "      </button>\n",
              "      \n",
              "  <style>\n",
              "    .colab-df-container {\n",
              "      display:flex;\n",
              "      flex-wrap:wrap;\n",
              "      gap: 12px;\n",
              "    }\n",
              "\n",
              "    .colab-df-convert {\n",
              "      background-color: #E8F0FE;\n",
              "      border: none;\n",
              "      border-radius: 50%;\n",
              "      cursor: pointer;\n",
              "      display: none;\n",
              "      fill: #1967D2;\n",
              "      height: 32px;\n",
              "      padding: 0 0 0 0;\n",
              "      width: 32px;\n",
              "    }\n",
              "\n",
              "    .colab-df-convert:hover {\n",
              "      background-color: #E2EBFA;\n",
              "      box-shadow: 0px 1px 2px rgba(60, 64, 67, 0.3), 0px 1px 3px 1px rgba(60, 64, 67, 0.15);\n",
              "      fill: #174EA6;\n",
              "    }\n",
              "\n",
              "    [theme=dark] .colab-df-convert {\n",
              "      background-color: #3B4455;\n",
              "      fill: #D2E3FC;\n",
              "    }\n",
              "\n",
              "    [theme=dark] .colab-df-convert:hover {\n",
              "      background-color: #434B5C;\n",
              "      box-shadow: 0px 1px 3px 1px rgba(0, 0, 0, 0.15);\n",
              "      filter: drop-shadow(0px 1px 2px rgba(0, 0, 0, 0.3));\n",
              "      fill: #FFFFFF;\n",
              "    }\n",
              "  </style>\n",
              "\n",
              "      <script>\n",
              "        const buttonEl =\n",
              "          document.querySelector('#df-2b27d1fb-c207-484b-813a-2203a41f5013 button.colab-df-convert');\n",
              "        buttonEl.style.display =\n",
              "          google.colab.kernel.accessAllowed ? 'block' : 'none';\n",
              "\n",
              "        async function convertToInteractive(key) {\n",
              "          const element = document.querySelector('#df-2b27d1fb-c207-484b-813a-2203a41f5013');\n",
              "          const dataTable =\n",
              "            await google.colab.kernel.invokeFunction('convertToInteractive',\n",
              "                                                     [key], {});\n",
              "          if (!dataTable) return;\n",
              "\n",
              "          const docLinkHtml = 'Like what you see? Visit the ' +\n",
              "            '<a target=\"_blank\" href=https://colab.research.google.com/notebooks/data_table.ipynb>data table notebook</a>'\n",
              "            + ' to learn more about interactive tables.';\n",
              "          element.innerHTML = '';\n",
              "          dataTable['output_type'] = 'display_data';\n",
              "          await google.colab.output.renderOutput(dataTable, element);\n",
              "          const docLink = document.createElement('div');\n",
              "          docLink.innerHTML = docLinkHtml;\n",
              "          element.appendChild(docLink);\n",
              "        }\n",
              "      </script>\n",
              "    </div>\n",
              "  </div>\n",
              "  "
            ],
            "text/plain": [
              "          file_name  width  height         x         y  box_width  box_height\n",
              "0  000000391895.jpg  640.0   360.0  0.312250  0.556833   0.121422    0.196889\n",
              "1  000000522418.jpg  640.0   480.0  0.365969  0.660646   0.233422    0.080312\n",
              "2  000000184613.jpg  500.0   336.0  0.478960  1.035327   0.320000    0.172054\n",
              "3  000000318219.jpg  556.0   640.0  0.533543  0.606766   0.001853    0.000000\n",
              "4  000000554625.jpg  426.0   640.0  0.591244  0.520969   0.295634    0.035484"
            ]
          },
          "metadata": {},
          "execution_count": 13
        }
      ]
    }
  ]
}